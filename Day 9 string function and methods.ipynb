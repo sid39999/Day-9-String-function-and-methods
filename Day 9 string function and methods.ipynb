{
 "cells": [
  {
   "cell_type": "markdown",
   "id": "72d83c4b",
   "metadata": {},
   "source": [
    "#                            Welcome To Our Challenge \n",
    "                                    100 Days of Code Challenge\n",
    "   \n",
    "                        Challenge Accepted by YOUTUBER:   SANCHIT AGRAWAL"
   ]
  },
  {
   "cell_type": "raw",
   "id": "cb781af8",
   "metadata": {},
   "source": [
    "YOUTUBE CHANNEL LINK : https://www.youtube.com/@sanchitagrawal."
   ]
  },
  {
   "cell_type": "markdown",
   "id": "ee3badf9",
   "metadata": {},
   "source": [
    "#                                           DAY 9\n",
    "                                         LET'S BEGIN"
   ]
  },
  {
   "cell_type": "markdown",
   "id": "c44fb35d",
   "metadata": {},
   "source": [
    "# String Methods and Function in Python"
   ]
  },
  {
   "cell_type": "raw",
   "id": "8f2e0c1a",
   "metadata": {},
   "source": [
    "# Creation: Single or double Quatation Mark"
   ]
  },
  {
   "cell_type": "code",
   "execution_count": 21,
   "id": "f3c19573",
   "metadata": {},
   "outputs": [
    {
     "ename": "SyntaxError",
     "evalue": "unterminated string literal (detected at line 2) (3103543113.py, line 2)",
     "output_type": "error",
     "traceback": [
      "\u001b[1;36m  Cell \u001b[1;32mIn[21], line 2\u001b[1;36m\u001b[0m\n\u001b[1;33m    double = \"Hello\u001b[0m\n\u001b[1;37m             ^\u001b[0m\n\u001b[1;31mSyntaxError\u001b[0m\u001b[1;31m:\u001b[0m unterminated string literal (detected at line 2)\n"
     ]
    }
   ],
   "source": [
    "single = 'Hello'\n",
    "double = \"Hello\"\n",
    "\n",
    "#both accepted and gives same result\n",
    "print(single)\n",
    "print(double)"
   ]
  },
  {
   "cell_type": "markdown",
   "id": "bc1ec5fe",
   "metadata": {},
   "source": [
    "# Multiline String"
   ]
  },
  {
   "cell_type": "code",
   "execution_count": 20,
   "id": "02cd3a7c",
   "metadata": {},
   "outputs": [
    {
     "name": "stdout",
     "output_type": "stream",
     "text": [
      "SAJKLFASKLJFASKJA\n",
      "SJKLFASJKLDFASL\n",
      "SLKAJFAKSJFAKL\n",
      "KLSAJDFASKJKLJ\n"
     ]
    }
   ],
   "source": [
    "m_string = '''SAJKLFASKLJFASKJA\n",
    "SJKLFASJKLDFASL\n",
    "SLKAJFAKSJFAKL\n",
    "KLSAJDFASKJKLJ'''\n",
    "print(m_string)"
   ]
  },
  {
   "cell_type": "markdown",
   "id": "749e7490",
   "metadata": {},
   "source": [
    "# String Indexing"
   ]
  },
  {
   "cell_type": "raw",
   "id": "9dc8e4eb",
   "metadata": {},
   "source": [
    "pos_ind = \"STRING_IND\"\n",
    "#INDEX     0123456789\n",
    "\n",
    "neg_ind = 'STRING IND'\n",
    "#INDEX    -9-8-7-6-5-4-3-2-1"
   ]
  },
  {
   "cell_type": "markdown",
   "id": "28e528a2",
   "metadata": {},
   "source": [
    "# String Slicing"
   ]
  },
  {
   "cell_type": "code",
   "execution_count": 24,
   "id": "80646ffb",
   "metadata": {},
   "outputs": [
    {
     "name": "stdout",
     "output_type": "stream",
     "text": [
      "string\n",
      "ing\n"
     ]
    }
   ],
   "source": [
    "string[start:end:steps]\n",
    "\n",
    "a = \"string\"\n",
    "print(a)\n",
    "print(a[3:])"
   ]
  },
  {
   "cell_type": "code",
   "execution_count": 30,
   "id": "2ab99b77",
   "metadata": {},
   "outputs": [
    {
     "name": "stdout",
     "output_type": "stream",
     "text": [
      "st\n",
      "rin\n",
      "ri\n"
     ]
    }
   ],
   "source": [
    "a = \"string\"\n",
    "print(a[0:2])      #n-1\n",
    "print(a[2:5])\n",
    "print(a[-4:-2])      #negative indexing"
   ]
  },
  {
   "cell_type": "code",
   "execution_count": 32,
   "id": "18e6e0cc",
   "metadata": {},
   "outputs": [
    {
     "name": "stdout",
     "output_type": "stream",
     "text": [
      "2468\n"
     ]
    }
   ],
   "source": [
    "a= '123456789'\n",
    "print(a[1:8:2])"
   ]
  },
  {
   "cell_type": "markdown",
   "id": "0cb9c38a",
   "metadata": {},
   "source": [
    "# String Concatenation"
   ]
  },
  {
   "cell_type": "code",
   "execution_count": 35,
   "id": "d93fac4b",
   "metadata": {},
   "outputs": [
    {
     "name": "stdout",
     "output_type": "stream",
     "text": [
      "hello sanchit\n",
      "hello sanchit\n"
     ]
    }
   ],
   "source": [
    "a= 'hello'\n",
    "b = 'sanchit'\n",
    "\n",
    "print(a,b)\n",
    "print(a+' '+ b)"
   ]
  },
  {
   "cell_type": "code",
   "execution_count": null,
   "id": "d1c88c74",
   "metadata": {},
   "outputs": [],
   "source": []
  },
  {
   "cell_type": "markdown",
   "id": "e592dda4",
   "metadata": {},
   "source": [
    "# String Usefull Methods"
   ]
  },
  {
   "cell_type": "markdown",
   "id": "87d4fa8c",
   "metadata": {},
   "source": [
    "# Replace()"
   ]
  },
  {
   "cell_type": "code",
   "execution_count": 37,
   "id": "88953d3d",
   "metadata": {},
   "outputs": [
    {
     "name": "stdout",
     "output_type": "stream",
     "text": [
      "string\n"
     ]
    }
   ],
   "source": [
    "a = 'python'\n",
    "a = a.replace('python','string')\n",
    "print(a)"
   ]
  },
  {
   "cell_type": "markdown",
   "id": "2c285930",
   "metadata": {},
   "source": [
    "# len()"
   ]
  },
  {
   "cell_type": "code",
   "execution_count": 41,
   "id": "53ba8f60",
   "metadata": {},
   "outputs": [
    {
     "name": "stdout",
     "output_type": "stream",
     "text": [
      "6\n"
     ]
    }
   ],
   "source": [
    "a = 'python'\n",
    "print(len(a))"
   ]
  },
  {
   "cell_type": "markdown",
   "id": "8844eaf9",
   "metadata": {},
   "source": [
    "# count()"
   ]
  },
  {
   "cell_type": "code",
   "execution_count": 45,
   "id": "4bbc8a17",
   "metadata": {},
   "outputs": [
    {
     "name": "stdout",
     "output_type": "stream",
     "text": [
      "1\n"
     ]
    }
   ],
   "source": [
    "a = 'python'\n",
    "a = a.count('python')\n",
    "print(a)"
   ]
  },
  {
   "cell_type": "markdown",
   "id": "ef1a90b7",
   "metadata": {},
   "source": [
    "# strip()"
   ]
  },
  {
   "cell_type": "code",
   "execution_count": 51,
   "id": "8aae1882",
   "metadata": {},
   "outputs": [
    {
     "name": "stdout",
     "output_type": "stream",
     "text": [
      "python     sanchit\n",
      " python     sanchit  \n"
     ]
    }
   ],
   "source": [
    "b = ' python     sanchit  '\n",
    "a = b.strip()\n",
    "print(a)\n",
    "print(b)"
   ]
  },
  {
   "cell_type": "code",
   "execution_count": null,
   "id": "9ea4b86b",
   "metadata": {},
   "outputs": [],
   "source": []
  },
  {
   "cell_type": "markdown",
   "id": "f005011b",
   "metadata": {},
   "source": [
    "# upper() and lower()"
   ]
  },
  {
   "cell_type": "code",
   "execution_count": 53,
   "id": "c0cd6210",
   "metadata": {},
   "outputs": [
    {
     "name": "stdout",
     "output_type": "stream",
     "text": [
      "python\n",
      "PYTHON\n"
     ]
    }
   ],
   "source": [
    "a = 'Python'\n",
    "a = a.lower()\n",
    "print(a)\n",
    "\n",
    "b = 'python'\n",
    "b = b.upper()\n",
    "print(b)"
   ]
  },
  {
   "cell_type": "markdown",
   "id": "69a08731",
   "metadata": {},
   "source": [
    "# MORE METHODS ARE GIVEN BELOW:"
   ]
  },
  {
   "cell_type": "raw",
   "id": "bcd10c5f",
   "metadata": {},
   "source": [
    "capitalize(): Returns a copy of the string with its first character capitalized.\n",
    "\n",
    "casefold(): Returns a casefolded copy of the string. Casefold is similar to lowercasing but more aggressive because it is intended to remove all case distinctions in a string.\n",
    "\n",
    "center(width, fillchar=' '): Returns a centered string of length width. Padding is done using the specified fill character (default is a space).\n",
    "\n",
    "count(substring, start=0, end=len(string)): Returns the number of occurrences of the substring in the given range.\n",
    "\n",
    "encode(encoding='utf-8', errors='strict'): Returns an encoded version of the string.\n",
    "\n",
    "endswith(suffix, start=0, end=len(string)): Returns True if the string ends with the specified suffix, otherwise returns False.\n",
    "\n",
    "expandtabs(tabsize=8): Returns a copy of the string where tab characters are expanded using spaces.\n",
    "\n",
    "find(substring, start=0, end=len(string)): Returns the lowest index of the first occurrence of the specified substring in the string. Returns -1 if the substring is not found.\n",
    "\n",
    "**format(*args, kwargs): Formats the string using the specified arguments and/or keyword arguments.\n",
    "\n",
    "format_map(mapping): Similar to format(), but accepts a mapping object.\n",
    "\n",
    "index(substring, start=0, end=len(string)): Returns the lowest index of the first occurrence of the specified substring. Raises ValueError if the substring is not found.\n",
    "\n",
    "isalnum(): Returns True if all characters in the string are alphanumeric, False otherwise.\n",
    "\n",
    "isalpha(): Returns True if all characters in the string are alphabetic, False otherwise.\n",
    "\n",
    "isascii(): Returns True if all characters in the string are ASCII, False otherwise.\n",
    "\n",
    "isdecimal(): Returns True if all characters in the string are decimals, False otherwise.\n",
    "\n",
    "isdigit(): Returns True if all characters in the string are digits, False otherwise.\n",
    "\n",
    "isidentifier(): Returns True if the string is a valid Python identifier, False otherwise.\n",
    "\n",
    "islower(): Returns True if all alphabetic characters in the string are lowercase, False otherwise.\n",
    "\n",
    "isnumeric(): Returns True if all characters in the string are numeric, False otherwise.\n",
    "\n",
    "isprintable(): Returns True if all characters in the string are printable, False otherwise.\n",
    "\n",
    "isspace(): Returns True if all characters in the string are whitespaces, False otherwise.\n",
    "\n",
    "istitle(): Returns True if the string is a titlecased string, False otherwise.\n",
    "\n",
    "isupper(): Returns True if all alphabetic characters in the string are uppercase, False otherwise.\n",
    "\n",
    "join(iterable): Concatenates the elements of the iterable to the string.\n",
    "\n",
    "ljust(width, fillchar=' '): Returns a left-justified version of the string. Padding is done using the specified fill character (default is a space).\n",
    "\n",
    "lower(): Returns a copy of the string with all characters in lowercase.\n",
    "\n",
    "lstrip(chars=None): Returns a copy of the string with leading characters removed. If chars is given and not None, it removes characters in chars instead.\n",
    "\n",
    "maketrans(x[, y[, z]]): Returns a translation table to be used in translate().\n",
    "\n",
    "partition(sep): Searches for the first occurrence of the specified separator and returns a tuple containing three elements: the part before the separator, the separator itself, and the part after the separator.\n",
    "\n",
    "replace(old, new, count=-1): Returns a copy of the string with occurrences of the specified 'old' substring replaced by the 'new' substring. If the optional argument count is given, only the first count occurrences are replaced.\n",
    "\n",
    "rfind(substring, start=0, end=len(string)): Returns the highest index of the first occurrence of the specified substring in the string. Returns -1 if the substring is not found.\n",
    "\n",
    "rindex(substring, start=0, end=len(string)): Returns the highest index of the first occurrence of the specified substring. Raises ValueError if the substring is not found.\n",
    "\n",
    "rjust(width, fillchar=' '): Returns a right-justified version of the string. Padding is done using the specified fill character (default is a space).\n",
    "\n",
    "rpartition(sep): Searches for the last occurrence of the specified separator and returns a tuple containing three elements: the part before the separator, the separator itself, and the part after the separator.\n",
    "\n",
    "rsplit(sep=None, maxsplit=-1): Splits the string from the right at the specified separator and returns a list of the splits.\n",
    "\n",
    "rstrip(chars=None): Returns a copy of the string with trailing characters removed. If chars is given and not None, it removes characters in chars instead.\n",
    "\n",
    "split(sep=None, maxsplit=-1): Splits the string at the specified separator and returns a list of the splits.\n",
    "\n",
    "splitlines(keepends=False): Splits the string at line breaks and returns a list of lines. Line breaks are not included in the resulting list unless keepends is given and true.\n",
    "\n",
    "startswith(prefix, start=0, end=len(string)): Returns True if the string starts with the specified prefix, otherwise returns False.\n",
    "\n",
    "strip(chars=None): Returns a copy of the string with leading and trailing characters removed. If chars is given and not None, it removes characters in chars instead.\n",
    "\n",
    "swapcase(): Returns a copy of the string with uppercase characters converted to lowercase and vice versa.\n",
    "\n",
    "title(): Returns a titlecased version of the string, i.e., the first character of each word is capitalized.\n",
    "\n",
    "translate(table): Returns a copy of the string in which each character has been mapped through the given translation table.\n",
    "\n",
    "upper(): Returns a copy of the string with all characters in uppercase.\n",
    "\n",
    "zfill(width): Returns a copy of the string filled with zeros ('0') on the left, such that the resulting string has a specified width."
   ]
  }
 ],
 "metadata": {
  "kernelspec": {
   "display_name": "Python 3 (ipykernel)",
   "language": "python",
   "name": "python3"
  },
  "language_info": {
   "codemirror_mode": {
    "name": "ipython",
    "version": 3
   },
   "file_extension": ".py",
   "mimetype": "text/x-python",
   "name": "python",
   "nbconvert_exporter": "python",
   "pygments_lexer": "ipython3",
   "version": "3.11.5"
  }
 },
 "nbformat": 4,
 "nbformat_minor": 5
}
